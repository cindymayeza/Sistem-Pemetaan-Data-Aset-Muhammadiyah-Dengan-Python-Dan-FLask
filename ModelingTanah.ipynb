{
 "cells": [
  {
   "cell_type": "code",
   "execution_count": 17,
   "metadata": {},
   "outputs": [],
   "source": [
    "import pandas as pd\n",
    "import numpy as np\n",
    "import matplotlib.pyplot as plt\n",
    "from sklearn.cluster import KMeans\n",
    "from sklearn.preprocessing import StandardScaler"
   ]
  },
  {
   "cell_type": "code",
   "execution_count": 18,
   "metadata": {},
   "outputs": [],
   "source": [
    "df = pd.read_excel('Laporan tanah.xlsx', header=None)"
   ]
  },
  {
   "cell_type": "code",
   "execution_count": 19,
   "metadata": {},
   "outputs": [],
   "source": [
    "# Menghapus Index ke-0\n",
    "df = df.drop([0, 1, 2])\n",
    "\n",
    "# Menghapus Index\n",
    "df = df.reset_index(drop=True)\n",
    "\n",
    "#Membuat nama kolom\n",
    "df.columns = ['kode wilayah', 'Kode Aset', 'no sertif', 'jenis sertif', 'Status Tanah', 'pemilik sebelum',\n",
    "                  'pemilik sekarang', 'alamat', 'desa', 'luas', 'cara perolehan', 'harga perolehan', 'tanggal perolehan',\n",
    "                  'harga taksir pasar', 'tahun taksir pasar', 'harga taksir njop', 'tahun taksir njop',\n",
    "                  'penggunaan', 'kategori', 'bidang', 'lokasi_arsip', 'fasum', 'produktif', 'sengketa',\n",
    "                  'nib', 'tanggal_tempo', 'keterangan',\n",
    "                  'latitude', 'longitude']\n",
    "\n",
    "# Merubah missing value menjadi 0\n",
    "def_status = 0\n",
    "df.fillna(def_status, inplace=True)"
   ]
  },
  {
   "cell_type": "code",
   "execution_count": 20,
   "metadata": {},
   "outputs": [],
   "source": [
    "#Selection Data\n",
    "df = df.loc[:, [\"Kode Aset\", \"Status Tanah\", \"penggunaan\", \"sengketa\", \"produktif\"]]"
   ]
  },
  {
   "cell_type": "code",
   "execution_count": 21,
   "metadata": {},
   "outputs": [],
   "source": [
    "#Transformasi Data\n",
    "# Memberi bobot ke atribut Penggunaan\n",
    "for index, row in df.iterrows():\n",
    "  if row['penggunaan'] == 'Belum termanfaatkan':\n",
    "    df.loc[index, 'Penggunaan Aset'] = 2\n",
    "  else:\n",
    "      df.loc[index, 'Penggunaan Aset'] = 1\n",
    "\n",
    "# Memberi bobot ke atribut Sengketa\n",
    "for index, row in df.iterrows():\n",
    "  if row['sengketa'] == 'Tidak':\n",
    "    df.loc[index, 'Sengketa Aset'] = 1\n",
    "  else:\n",
    "    df.loc[index, 'Sengketa Aset'] = 3"
   ]
  },
  {
   "cell_type": "code",
   "execution_count": 26,
   "metadata": {},
   "outputs": [],
   "source": [
    "#Melakukan Proses Kmeans\n",
    "X = df[['Penggunaan Aset', 'Sengketa Aset']].values"
   ]
  },
  {
   "cell_type": "code",
   "execution_count": 27,
   "metadata": {},
   "outputs": [
    {
     "data": {
      "text/plain": [
       "KMeans(n_clusters=3, random_state=128)"
      ]
     },
     "execution_count": 27,
     "metadata": {},
     "output_type": "execute_result"
    }
   ],
   "source": [
    "scaler = StandardScaler()\n",
    "X = scaler.fit_transform(X)\n",
    "\n",
    "#Kmeans\n",
    "kmeans = KMeans(n_clusters=3, random_state=128) #supaya model model memilih centroid secara random\n",
    "kmeans.fit(X)"
   ]
  },
  {
   "cell_type": "code",
   "execution_count": 25,
   "metadata": {},
   "outputs": [],
   "source": [
    "import pickle\n",
    "pickle.dump(kmeans, open(\"modelTanah.pkl\", \"wb\"))"
   ]
  },
  {
   "cell_type": "code",
   "execution_count": null,
   "metadata": {},
   "outputs": [],
   "source": []
  }
 ],
 "metadata": {
  "kernelspec": {
   "display_name": "Python 3.10.5 64-bit",
   "language": "python",
   "name": "python3"
  },
  "language_info": {
   "codemirror_mode": {
    "name": "ipython",
    "version": 3
   },
   "file_extension": ".py",
   "mimetype": "text/x-python",
   "name": "python",
   "nbconvert_exporter": "python",
   "pygments_lexer": "ipython3",
   "version": "3.10.5"
  },
  "vscode": {
   "interpreter": {
    "hash": "a9cff5a362bc38ef45d817ae74b1af54d6a076e3d773891282bce078b815ba34"
   }
  }
 },
 "nbformat": 4,
 "nbformat_minor": 4
}
