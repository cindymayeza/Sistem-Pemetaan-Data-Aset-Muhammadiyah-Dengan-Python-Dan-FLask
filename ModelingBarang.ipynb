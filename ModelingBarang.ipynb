{
 "cells": [
  {
   "cell_type": "code",
   "execution_count": 1,
   "metadata": {},
   "outputs": [],
   "source": [
    "import pandas as pd\n",
    "import numpy as np\n",
    "import matplotlib.pyplot as plt\n",
    "import pickle\n",
    "from sklearn.cluster import KMeans\n",
    "from sklearn.preprocessing import StandardScaler"
   ]
  },
  {
   "cell_type": "code",
   "execution_count": 2,
   "metadata": {},
   "outputs": [],
   "source": [
    "df = pd.read_excel('Laporan barang.xlsx', header=None)"
   ]
  },
  {
   "cell_type": "code",
   "execution_count": 3,
   "metadata": {},
   "outputs": [],
   "source": [
    "# Menghapus Index ke-0\n",
    "df = df.drop([0, 1, 2])\n",
    "\n",
    "# Menghapus Index\n",
    "df = df.reset_index(drop=True)\n",
    "\n",
    "df.columns = ['Kode Aset', 'kategori', 'kelompok', 'Jenis', 'kondisi baik', 'kondisi rusak ringan', 'kondisi rusak berat', 'kondisi hilang', 'jumlah']\n",
    "\n",
    "# Merubah missing value menjadi 0\n",
    "def_status = 0\n",
    "df.fillna(def_status, inplace=True)"
   ]
  },
  {
   "cell_type": "code",
   "execution_count": 4,
   "metadata": {},
   "outputs": [],
   "source": [
    "#Selection Data\n",
    "df = df.loc[:, [\"Kode Aset\", \"Jenis\", \"kondisi baik\", \"kondisi rusak ringan\", \"kondisi rusak berat\", \"kondisi hilang\"]]"
   ]
  },
  {
   "cell_type": "code",
   "execution_count": 5,
   "metadata": {},
   "outputs": [],
   "source": [
    "#Transformasi Data\n",
    "\n",
    "for index, row in df.iterrows():\n",
    "  if row['kondisi baik'] > 0:\n",
    "    df.loc[index, 'Baik'] = 1  # Produktif\n",
    "  else:\n",
    "    df.loc[index, 'Baik'] = 2  # Tidak Produktif\n",
    "\n",
    "for index, row in df.iterrows():\n",
    "  if row['kondisi rusak ringan'] >= 0:\n",
    "    df.loc[index, 'Rusak Ringan'] = 1  # Produktif\n",
    "  else:\n",
    "    df.loc[index, 'Rusak Ringan'] = 2  # Tidak Produktif\n",
    "\n",
    "for index, row in df.iterrows():\n",
    "  if row['kondisi rusak berat'] > 0:\n",
    "    df.loc[index, 'Rusak Berat'] = 2  # Tidak Produktif\n",
    "  else:\n",
    "    df.loc[index, 'Rusak Berat'] = 1  # Produktif\n",
    "\n",
    "for index, row in df.iterrows():\n",
    "  if row['kondisi hilang'] > 0:\n",
    "    df.loc[index, 'Kondisi Hilang'] = 2  # Tidak Produktif\n",
    "  else:\n",
    "    df.loc[index, 'Kondisi Hilang'] = 1  # Produktif"
   ]
  },
  {
   "cell_type": "code",
   "execution_count": 6,
   "metadata": {},
   "outputs": [],
   "source": [
    "#Melakukan Proses Kmeans\n",
    "X = df[['Baik', 'Rusak Ringan', 'Rusak Berat', 'Kondisi Hilang']].values"
   ]
  },
  {
   "cell_type": "code",
   "execution_count": null,
   "metadata": {},
   "outputs": [],
   "source": [
    "#Praproses\n",
    "scaler = StandardScaler()\n",
    "X = scaler.fit_transform(X)\n",
    "\n",
    "#Kmeans\n",
    "kmeans = KMeans(n_clusters=3, random_state=128) #supaya model model memilih centroid secara random\n",
    "y_cluster = kmeans.fit_predict(X)"
   ]
  }
 ],
 "metadata": {
  "kernelspec": {
   "display_name": "Python 3",
   "language": "python",
   "name": "python3"
  },
  "language_info": {
   "codemirror_mode": {
    "name": "ipython",
    "version": 3
   },
   "file_extension": ".py",
   "mimetype": "text/x-python",
   "name": "python",
   "nbconvert_exporter": "python",
   "pygments_lexer": "ipython3",
   "version": "3.8.5"
  }
 },
 "nbformat": 4,
 "nbformat_minor": 4
}
