{
 "cells": [
  {
   "cell_type": "code",
   "execution_count": 71,
   "metadata": {},
   "outputs": [],
   "source": [
    "import pandas as pd\n",
    "import numpy as np\n",
    "import matplotlib.pyplot as plt\n",
    "import pickle\n",
    "from sklearn.cluster import KMeans\n",
    "from sklearn.preprocessing import StandardScaler"
   ]
  },
  {
   "cell_type": "code",
   "execution_count": 72,
   "metadata": {},
   "outputs": [],
   "source": [
    "df = pd.read_excel('Laporan bangunan.xlsx', header=None)"
   ]
  },
  {
   "cell_type": "code",
   "execution_count": 73,
   "metadata": {},
   "outputs": [],
   "source": [
    "# Menghapus Index ke-0\n",
    "df = df.drop([0, 1, 2])\n",
    "\n",
    "# Menghapus Index\n",
    "df = df.reset_index(drop=True)\n",
    "\n",
    "# Membuat nama kolom\n",
    "df.columns = ['bidang', 'kategori', 'kode wilayah', 'Kode Aset', 'Nama Aset', 'pengelola',\n",
    "                  'luas', 'harga', 'tanggal dibangun', 'harga taksir', 'tahun taksir', 'keterangan', 'alamat']\n",
    "\n",
    "# Merubah missing value menjadi 0\n",
    "def_status = 0\n",
    "df.fillna(def_status, inplace=True)"
   ]
  },
  {
   "cell_type": "code",
   "execution_count": 74,
   "metadata": {},
   "outputs": [],
   "source": [
    "#Selection Data\n",
    "df = df.loc[:, [\"Kode Aset\", \"Nama Aset\", \"luas\"]]"
   ]
  },
  {
   "cell_type": "code",
   "execution_count": 75,
   "metadata": {},
   "outputs": [],
   "source": [
    "#Transformasi Data\n",
    "for index, row in df.iterrows():\n",
    "  if row['Nama Aset'] == 0:\n",
    "    df.loc[index, 'Penggunaan'] = 2  # tidak produktif\n",
    "  else:\n",
    "    df.loc[index, 'Penggunaan'] = 1  # Produkfif\n",
    "\n",
    "for index, row in df.iterrows():\n",
    "  if row['luas'] >=100:\n",
    "    df.loc[index, 'Luas'] = 1  # produktif\n",
    "  else:\n",
    "    df.loc[index, 'Luas'] = 2  # Produkfif"
   ]
  },
  {
   "cell_type": "code",
   "execution_count": 76,
   "metadata": {},
   "outputs": [],
   "source": [
    "#Melakukan Proses Kmeans\n",
    "X = df[['Penggunaan', 'Luas']].values"
   ]
  },
  {
   "cell_type": "code",
   "execution_count": 77,
   "metadata": {},
   "outputs": [
    {
     "name": "stderr",
     "output_type": "stream",
     "text": [
      "<ipython-input-77-b969cca884ef>:7: ConvergenceWarning: Number of distinct clusters (1) found smaller than n_clusters (3). Possibly due to duplicate points in X.\n",
      "  kmeans.fit(X)\n"
     ]
    },
    {
     "data": {
      "text/plain": [
       "KMeans(n_clusters=3, random_state=128)"
      ]
     },
     "execution_count": 77,
     "metadata": {},
     "output_type": "execute_result"
    }
   ],
   "source": [
    "#Praproses\n",
    "scaler = StandardScaler()\n",
    "X = scaler.fit_transform(X)\n",
    "\n",
    "#Kmeans\n",
    "kmeans = KMeans(n_clusters=3, random_state=128) #supaya model model memilih centroid secara random\n",
    "kmeans.fit(X)"
   ]
  },
  {
   "cell_type": "code",
   "execution_count": 78,
   "metadata": {},
   "outputs": [],
   "source": [
    "pickle.dump(kmeans, open(\"modelBangunan.pkl\", \"wb\"))"
   ]
  },
  {
   "cell_type": "code",
   "execution_count": null,
   "metadata": {},
   "outputs": [],
   "source": []
  },
  {
   "cell_type": "code",
   "execution_count": null,
   "metadata": {},
   "outputs": [],
   "source": []
  },
  {
   "cell_type": "code",
   "execution_count": null,
   "metadata": {},
   "outputs": [],
   "source": []
  },
  {
   "cell_type": "code",
   "execution_count": null,
   "metadata": {},
   "outputs": [],
   "source": [
    "\n"
   ]
  },
  {
   "cell_type": "code",
   "execution_count": null,
   "metadata": {},
   "outputs": [],
   "source": []
  },
  {
   "cell_type": "code",
   "execution_count": null,
   "metadata": {},
   "outputs": [],
   "source": []
  }
 ],
 "metadata": {
  "kernelspec": {
   "display_name": "Python 3",
   "language": "python",
   "name": "python3"
  },
  "language_info": {
   "codemirror_mode": {
    "name": "ipython",
    "version": 3
   },
   "file_extension": ".py",
   "mimetype": "text/x-python",
   "name": "python",
   "nbconvert_exporter": "python",
   "pygments_lexer": "ipython3",
   "version": "3.8.5"
  },
  "vscode": {
   "interpreter": {
    "hash": "a9cff5a362bc38ef45d817ae74b1af54d6a076e3d773891282bce078b815ba34"
   }
  }
 },
 "nbformat": 4,
 "nbformat_minor": 4
}
